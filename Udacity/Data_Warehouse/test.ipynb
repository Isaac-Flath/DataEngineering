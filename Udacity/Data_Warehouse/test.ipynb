{
 "cells": [
  {
   "cell_type": "code",
   "execution_count": 2,
   "metadata": {},
   "outputs": [
    {
     "name": "stdout",
     "output_type": "stream",
     "text": [
      "('dev', 'pg_catalog', 'pg_default_acl', 'BASE TABLE', None, None, None, None, None)\n"
     ]
    }
   ],
   "source": [
    "import configparser\n",
    "import psycopg2\n",
    "from sql_queries import copy_table_queries, insert_table_queries\n",
    "import credstash\n",
    "import sqlalchemy\n",
    "import sqlalchemy as sa\n",
    "from sqlalchemy.engine.url import URL\n",
    "config = configparser.ConfigParser()\n",
    "config.read('dwh.cfg')\n",
    "\n",
    "conn = psycopg2.connect(\n",
    "    host = 'redshift-cluster-1.cd4y5vqupd0n.us-east-1.redshift.amazonaws.com',\n",
    "    dbname = 'dev',\n",
    "    user = 'awsuser',\n",
    "    port = 5439,\n",
    "    password=credstash.getSecret('aws.infrastructure.redshift_cluster_1.master.pass', region='us-east-1', profile_name='isaac')\n",
    ")\n",
    "cur = conn.cursor()\n",
    "\n",
    "\n",
    "cur.execute(\"select top 25 * from dev.information_schema.tables\")\n",
    "print(cur.fetchone())"
   ]
  },
  {
   "cell_type": "code",
   "execution_count": 8,
   "metadata": {},
   "outputs": [
    {
     "data": {
      "text/plain": [
       "'AAA'"
      ]
     },
     "execution_count": 8,
     "metadata": {},
     "output_type": "execute_result"
    }
   ],
   "source": [
    "(\"AAA\")\n"
   ]
  },
  {
   "cell_type": "code",
   "execution_count": null,
   "metadata": {},
   "outputs": [],
   "source": []
  },
  {
   "cell_type": "code",
   "execution_count": null,
   "metadata": {},
   "outputs": [],
   "source": []
  }
 ],
 "metadata": {
  "kernelspec": {
   "display_name": "base",
   "language": "python",
   "name": "python3"
  },
  "language_info": {
   "codemirror_mode": {
    "name": "ipython",
    "version": 3
   },
   "file_extension": ".py",
   "mimetype": "text/x-python",
   "name": "python",
   "nbconvert_exporter": "python",
   "pygments_lexer": "ipython3",
   "version": "3.9.7"
  },
  "orig_nbformat": 4
 },
 "nbformat": 4,
 "nbformat_minor": 2
}
